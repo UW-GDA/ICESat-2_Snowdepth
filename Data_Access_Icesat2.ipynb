{
 "cells": [
  {
   "cell_type": "markdown",
   "metadata": {},
   "source": [
    "# Download ICESat-2 Data"
   ]
  },
  {
   "cell_type": "code",
   "execution_count": 25,
   "metadata": {
    "collapsed": true,
    "jupyter": {
     "outputs_hidden": true
    }
   },
   "outputs": [
    {
     "name": "stdout",
     "output_type": "stream",
     "text": [
      "Requirement already satisfied: icepyx in /srv/conda/envs/notebook/lib/python3.8/site-packages (0.3.3)\n",
      "Requirement already satisfied: xarray in /srv/conda/envs/notebook/lib/python3.8/site-packages (from icepyx) (0.16.2)\n",
      "Requirement already satisfied: shapely in /srv/conda/envs/notebook/lib/python3.8/site-packages (from icepyx) (1.7.1)\n",
      "Requirement already satisfied: matplotlib in /srv/conda/envs/notebook/lib/python3.8/site-packages (from icepyx) (3.3.3)\n",
      "Requirement already satisfied: fiona in /srv/conda/envs/notebook/lib/python3.8/site-packages (from icepyx) (1.8.18)\n",
      "Requirement already satisfied: geopandas in /srv/conda/envs/notebook/lib/python3.8/site-packages (from icepyx) (0.8.1)\n",
      "Requirement already satisfied: h5py in /srv/conda/envs/notebook/lib/python3.8/site-packages (from icepyx) (3.1.0)\n",
      "Requirement already satisfied: requests in /srv/conda/envs/notebook/lib/python3.8/site-packages (from icepyx) (2.25.1)\n",
      "Requirement already satisfied: numpy in /srv/conda/envs/notebook/lib/python3.8/site-packages (from icepyx) (1.19.4)\n",
      "Requirement already satisfied: attrs>=17 in /srv/conda/envs/notebook/lib/python3.8/site-packages (from fiona->icepyx) (20.3.0)\n",
      "Requirement already satisfied: certifi in /srv/conda/envs/notebook/lib/python3.8/site-packages (from fiona->icepyx) (2020.12.5)\n",
      "Requirement already satisfied: click<8,>=4.0 in /srv/conda/envs/notebook/lib/python3.8/site-packages (from fiona->icepyx) (7.1.2)\n",
      "Requirement already satisfied: cligj>=0.5 in /srv/conda/envs/notebook/lib/python3.8/site-packages (from fiona->icepyx) (0.7.1)\n",
      "Requirement already satisfied: click-plugins>=1.0 in /srv/conda/envs/notebook/lib/python3.8/site-packages (from fiona->icepyx) (1.1.1)\n",
      "Requirement already satisfied: six>=1.7 in /srv/conda/envs/notebook/lib/python3.8/site-packages (from fiona->icepyx) (1.15.0)\n",
      "Requirement already satisfied: munch in /srv/conda/envs/notebook/lib/python3.8/site-packages (from fiona->icepyx) (2.5.0)\n",
      "Requirement already satisfied: pandas>=0.23.0 in /srv/conda/envs/notebook/lib/python3.8/site-packages (from geopandas->icepyx) (1.1.5)\n",
      "Requirement already satisfied: pyproj>=2.2.0 in /srv/conda/envs/notebook/lib/python3.8/site-packages (from geopandas->icepyx) (2.6.1.post1)\n",
      "Requirement already satisfied: python-dateutil>=2.7.3 in /srv/conda/envs/notebook/lib/python3.8/site-packages (from pandas>=0.23.0->geopandas->icepyx) (2.7.5)\n",
      "Requirement already satisfied: pytz>=2017.2 in /srv/conda/envs/notebook/lib/python3.8/site-packages (from pandas>=0.23.0->geopandas->icepyx) (2020.4)\n",
      "Requirement already satisfied: pillow>=6.2.0 in /srv/conda/envs/notebook/lib/python3.8/site-packages (from matplotlib->icepyx) (8.0.1)\n",
      "Requirement already satisfied: cycler>=0.10 in /srv/conda/envs/notebook/lib/python3.8/site-packages (from matplotlib->icepyx) (0.10.0)\n",
      "Requirement already satisfied: kiwisolver>=1.0.1 in /srv/conda/envs/notebook/lib/python3.8/site-packages (from matplotlib->icepyx) (1.3.1)\n",
      "Requirement already satisfied: pyparsing!=2.0.4,!=2.1.2,!=2.1.6,>=2.0.3 in /srv/conda/envs/notebook/lib/python3.8/site-packages (from matplotlib->icepyx) (2.4.7)\n",
      "Requirement already satisfied: urllib3<1.27,>=1.21.1 in /srv/conda/envs/notebook/lib/python3.8/site-packages (from requests->icepyx) (1.25.11)\n",
      "Requirement already satisfied: chardet<5,>=3.0.2 in /srv/conda/envs/notebook/lib/python3.8/site-packages (from requests->icepyx) (3.0.4)\n",
      "Requirement already satisfied: idna<3,>=2.5 in /srv/conda/envs/notebook/lib/python3.8/site-packages (from requests->icepyx) (2.10)\n",
      "Requirement already satisfied: setuptools>=38.4 in /srv/conda/envs/notebook/lib/python3.8/site-packages (from xarray->icepyx) (49.6.0.post20201009)\n"
     ]
    }
   ],
   "source": [
    "# Need icepyx for downloading icesat-2 data from earthdata\n",
    "!pip install icepyx"
   ]
  },
  {
   "cell_type": "code",
   "execution_count": 3,
   "metadata": {},
   "outputs": [],
   "source": [
    "import icepyx\n",
    "import os\n",
    "import shutil\n",
    "from pprint import pprint\n",
    "%matplotlib inline"
   ]
  },
  {
   "cell_type": "code",
   "execution_count": 4,
   "metadata": {},
   "outputs": [
    {
     "data": {
      "text/plain": [
       "{'Number of available granules': 10,\n",
       " 'Average size of granules (MB)': 56.99894962311,\n",
       " 'Total size of all granules (MB)': 569.9894962311}"
      ]
     },
     "execution_count": 4,
     "metadata": {},
     "output_type": "execute_result"
    }
   ],
   "source": [
    "# Set your bounding box where you want to download the icesat-2 data from. Can also be a shapefile. \n",
    "# Change dataset to any of the available data products, ie ATL06 or ATL03 if desired.\n",
    "\n",
    "region_a = icepyx.Query(dataset='ATL08',\n",
    "                      spatial_extent=[-119.722840,37.734991,\n",
    "                                      -119.165067,38.218747],\n",
    "                      date_range=['2020-08-01','2020-11-15'])\n",
    "region_a.avail_granules()"
   ]
  },
  {
   "cell_type": "code",
   "execution_count": 5,
   "metadata": {},
   "outputs": [
    {
     "name": "stdout",
     "output_type": "stream",
     "text": [
      "003\n",
      "dataset_id :  ATLAS/ICESat-2 L3A Land and Vegetation Height V003\n",
      "short_name :  ATL08\n",
      "version_id :  003\n",
      "time_start :  2018-10-14T00:00:00.000Z\n",
      "coordinate_system :  CARTESIAN\n",
      "summary :  This data set (ATL08) contains along-track heights above the WGS84 ellipsoid (ITRF2014 reference frame) for the ground and canopy surfaces. The canopy and ground surfaces are processed in fixed 100 m data segments, which typically contain more than 100 signal photons. The data were acquired by the Advanced Topographic Laser Altimeter System (ATLAS) instrument on board the Ice, Cloud and land Elevation Satellite-2 (ICESat-2) observatory.\n",
      "orbit_parameters :  {'swath_width': '36.0', 'period': '96.8', 'inclination_angle': '92.0', 'number_of_orbits': '0.071428571', 'start_circular_latitude': '0.0'}\n"
     ]
    }
   ],
   "source": [
    "# Review info about the dataset you're downloading\n",
    "print(region_a.latest_version())\n",
    "region_a.dataset_summary_info()"
   ]
  },
  {
   "cell_type": "code",
   "execution_count": 6,
   "metadata": {},
   "outputs": [],
   "source": [
    "#region_a.dataset_all_info()"
   ]
  },
  {
   "cell_type": "code",
   "execution_count": 7,
   "metadata": {},
   "outputs": [
    {
     "data": {
      "text/plain": [
       "[['ATL08_20200805035817_06230806_003_01.h5',\n",
       "  'ATL08_20200810153407_07070802_003_01.h5',\n",
       "  'ATL08_20200903023419_10650806_003_01.h5',\n",
       "  'ATL08_20200907022600_11260806_003_01.h5',\n",
       "  'ATL08_20200908141010_11490802_003_01.h5',\n",
       "  'ATL08_20201006010159_01810906_003_01.h5',\n",
       "  'ATL08_20201007124610_02040902_003_01.h5',\n",
       "  'ATL08_20201011123751_02650902_003_01.h5',\n",
       "  'ATL08_20201103233805_06230906_003_01.h5',\n",
       "  'ATL08_20201109111355_07070902_003_01.h5']]"
      ]
     },
     "execution_count": 7,
     "metadata": {},
     "output_type": "execute_result"
    }
   ],
   "source": [
    "# View the IDs with date the data was collected\n",
    "region_a.avail_granules(ids=True)"
   ]
  },
  {
   "cell_type": "code",
   "execution_count": 8,
   "metadata": {},
   "outputs": [
    {
     "name": "stdin",
     "output_type": "stream",
     "text": [
      "Earthdata Login password:  ·············\n"
     ]
    }
   ],
   "source": [
    "# Fill this in with your Earthdata Login user name and associated email\n",
    "\n",
    "earthdata_uid = 'bessoh2'\n",
    "email = 'bessoh2@uw.edu'\n",
    "region_a.earthdata_login(earthdata_uid, email)"
   ]
  },
  {
   "cell_type": "code",
   "execution_count": 26,
   "metadata": {},
   "outputs": [],
   "source": [
    "# Make a list of the variables you want to download. Read more about each variable at:\n",
    "# https://icesat-2.gsfc.nasa.gov/sites/default/files/page_files/ICESat2_ATL08_ATBD_r002_v2.pdf\n",
    "\n",
    "var_list = ['h_te_mean','h_te_median','h_te_min','h_te_max','h_te_mode','h_te_skew','n_te_photons','h_te_interp','h_te_std','h_te_uncertainty','terrain_slope','h_te_best_fit','h_mean_canopy','h_mean_canopy','latitude','longitude','delta_time','dem_h','dem_removal_flag','h_dif_ref','terrain_flg','segment_landcover', 'segment_watermask','segment_snowcover','surf_type','last_seg_extend','sigma_h','sigma_along','sigma_across','sigma_topo','sigma_atlas_land','psf_flag','layer_flag','n_seg_ph']"
   ]
  },
  {
   "cell_type": "code",
   "execution_count": 17,
   "metadata": {},
   "outputs": [],
   "source": [
    "# Add your chosen variables to your order\n",
    "\n",
    "region_a.order_vars.append(var_list=var_list)\n",
    "#print(region_a.order_vars.wanted)"
   ]
  },
  {
   "cell_type": "code",
   "execution_count": 18,
   "metadata": {},
   "outputs": [
    {
     "data": {
      "text/plain": [
       "{'time': '2020-08-01T00:00:00,2020-11-15T23:59:59',\n",
       " 'Coverage': '/orbit_info/sc_orient,/orbit_info/sc_orient_time,/ancillary_data/atlas_sdp_gps_epoch,/ancillary_data/data_start_utc,/ancillary_data/data_end_utc,/ancillary_data/granule_start_utc,/ancillary_data/granule_end_utc,/ancillary_data/start_delta_time,/ancillary_data/end_delta_time,/gt1l/land_segments/delta_time,/gt1l/signal_photons/delta_time,/gt1r/land_segments/delta_time,/gt1r/signal_photons/delta_time,/gt2l/land_segments/delta_time,/gt2l/signal_photons/delta_time,/gt2r/land_segments/delta_time,/gt2r/signal_photons/delta_time,/gt3l/land_segments/delta_time,/gt3l/signal_photons/delta_time,/gt3r/land_segments/delta_time,/gt3r/signal_photons/delta_time,/gt1l/land_segments/latitude,/gt1r/land_segments/latitude,/gt2l/land_segments/latitude,/gt2r/land_segments/latitude,/gt3l/land_segments/latitude,/gt3r/land_segments/latitude,/gt1l/land_segments/longitude,/gt1r/land_segments/longitude,/gt2l/land_segments/longitude,/gt2r/land_segments/longitude,/gt3l/land_segments/longitude,/gt3r/land_segments/longitude,/gt1l/land_segments/terrain/h_te_mean,/gt1r/land_segments/terrain/h_te_mean,/gt2l/land_segments/terrain/h_te_mean,/gt2r/land_segments/terrain/h_te_mean,/gt3l/land_segments/terrain/h_te_mean,/gt3r/land_segments/terrain/h_te_mean,/gt1l/land_segments/terrain/h_te_median,/gt1r/land_segments/terrain/h_te_median,/gt2l/land_segments/terrain/h_te_median,/gt2r/land_segments/terrain/h_te_median,/gt3l/land_segments/terrain/h_te_median,/gt3r/land_segments/terrain/h_te_median,/gt1l/land_segments/terrain/h_te_min,/gt1r/land_segments/terrain/h_te_min,/gt2l/land_segments/terrain/h_te_min,/gt2r/land_segments/terrain/h_te_min,/gt3l/land_segments/terrain/h_te_min,/gt3r/land_segments/terrain/h_te_min,/gt1l/land_segments/terrain/h_te_max,/gt1r/land_segments/terrain/h_te_max,/gt2l/land_segments/terrain/h_te_max,/gt2r/land_segments/terrain/h_te_max,/gt3l/land_segments/terrain/h_te_max,/gt3r/land_segments/terrain/h_te_max,/gt1l/land_segments/terrain/h_te_mode,/gt1r/land_segments/terrain/h_te_mode,/gt2l/land_segments/terrain/h_te_mode,/gt2r/land_segments/terrain/h_te_mode,/gt3l/land_segments/terrain/h_te_mode,/gt3r/land_segments/terrain/h_te_mode,/gt1l/land_segments/terrain/h_te_skew,/gt1r/land_segments/terrain/h_te_skew,/gt2l/land_segments/terrain/h_te_skew,/gt2r/land_segments/terrain/h_te_skew,/gt3l/land_segments/terrain/h_te_skew,/gt3r/land_segments/terrain/h_te_skew,/gt1l/land_segments/terrain/n_te_photons,/gt1r/land_segments/terrain/n_te_photons,/gt2l/land_segments/terrain/n_te_photons,/gt2r/land_segments/terrain/n_te_photons,/gt3l/land_segments/terrain/n_te_photons,/gt3r/land_segments/terrain/n_te_photons,/gt1l/land_segments/terrain/h_te_interp,/gt1r/land_segments/terrain/h_te_interp,/gt2l/land_segments/terrain/h_te_interp,/gt2r/land_segments/terrain/h_te_interp,/gt3l/land_segments/terrain/h_te_interp,/gt3r/land_segments/terrain/h_te_interp,/gt1l/land_segments/terrain/h_te_std,/gt1r/land_segments/terrain/h_te_std,/gt2l/land_segments/terrain/h_te_std,/gt2r/land_segments/terrain/h_te_std,/gt3l/land_segments/terrain/h_te_std,/gt3r/land_segments/terrain/h_te_std,/gt1l/land_segments/terrain/h_te_uncertainty,/gt1r/land_segments/terrain/h_te_uncertainty,/gt2l/land_segments/terrain/h_te_uncertainty,/gt2r/land_segments/terrain/h_te_uncertainty,/gt3l/land_segments/terrain/h_te_uncertainty,/gt3r/land_segments/terrain/h_te_uncertainty,/gt1l/land_segments/terrain/terrain_slope,/gt1r/land_segments/terrain/terrain_slope,/gt2l/land_segments/terrain/terrain_slope,/gt2r/land_segments/terrain/terrain_slope,/gt3l/land_segments/terrain/terrain_slope,/gt3r/land_segments/terrain/terrain_slope,/gt1l/land_segments/terrain/h_te_best_fit,/gt1r/land_segments/terrain/h_te_best_fit,/gt2l/land_segments/terrain/h_te_best_fit,/gt2r/land_segments/terrain/h_te_best_fit,/gt3l/land_segments/terrain/h_te_best_fit,/gt3r/land_segments/terrain/h_te_best_fit,/gt1l/land_segments/canopy/h_mean_canopy,/gt1r/land_segments/canopy/h_mean_canopy,/gt2l/land_segments/canopy/h_mean_canopy,/gt2r/land_segments/canopy/h_mean_canopy,/gt3l/land_segments/canopy/h_mean_canopy,/gt3r/land_segments/canopy/h_mean_canopy,/gt1l/land_segments/dem_h,/gt1r/land_segments/dem_h,/gt2l/land_segments/dem_h,/gt2r/land_segments/dem_h,/gt3l/land_segments/dem_h,/gt3r/land_segments/dem_h,/gt1l/land_segments/dem_removal_flag,/gt1r/land_segments/dem_removal_flag,/gt2l/land_segments/dem_removal_flag,/gt2r/land_segments/dem_removal_flag,/gt3l/land_segments/dem_removal_flag,/gt3r/land_segments/dem_removal_flag,/gt1l/land_segments/h_dif_ref,/gt1r/land_segments/h_dif_ref,/gt2l/land_segments/h_dif_ref,/gt2r/land_segments/h_dif_ref,/gt3l/land_segments/h_dif_ref,/gt3r/land_segments/h_dif_ref,/gt1l/land_segments/terrain_flg,/gt1r/land_segments/terrain_flg,/gt2l/land_segments/terrain_flg,/gt2r/land_segments/terrain_flg,/gt3l/land_segments/terrain_flg,/gt3r/land_segments/terrain_flg,/gt1l/land_segments/segment_landcover,/gt1r/land_segments/segment_landcover,/gt2l/land_segments/segment_landcover,/gt2r/land_segments/segment_landcover,/gt3l/land_segments/segment_landcover,/gt3r/land_segments/segment_landcover,/gt1l/land_segments/segment_watermask,/gt1r/land_segments/segment_watermask,/gt2l/land_segments/segment_watermask,/gt2r/land_segments/segment_watermask,/gt3l/land_segments/segment_watermask,/gt3r/land_segments/segment_watermask,/gt1l/land_segments/segment_snowcover,/gt1r/land_segments/segment_snowcover,/gt2l/land_segments/segment_snowcover,/gt2r/land_segments/segment_snowcover,/gt3l/land_segments/segment_snowcover,/gt3r/land_segments/segment_snowcover,/gt1l/land_segments/surf_type,/gt1r/land_segments/surf_type,/gt2l/land_segments/surf_type,/gt2r/land_segments/surf_type,/gt3l/land_segments/surf_type,/gt3r/land_segments/surf_type,/gt1l/land_segments/last_seg_extend,/gt1r/land_segments/last_seg_extend,/gt2l/land_segments/last_seg_extend,/gt2r/land_segments/last_seg_extend,/gt3l/land_segments/last_seg_extend,/gt3r/land_segments/last_seg_extend,/gt1l/land_segments/sigma_h,/gt1r/land_segments/sigma_h,/gt2l/land_segments/sigma_h,/gt2r/land_segments/sigma_h,/gt3l/land_segments/sigma_h,/gt3r/land_segments/sigma_h,/gt1l/land_segments/sigma_along,/gt1r/land_segments/sigma_along,/gt2l/land_segments/sigma_along,/gt2r/land_segments/sigma_along,/gt3l/land_segments/sigma_along,/gt3r/land_segments/sigma_along,/gt1l/land_segments/sigma_across,/gt1r/land_segments/sigma_across,/gt2l/land_segments/sigma_across,/gt2r/land_segments/sigma_across,/gt3l/land_segments/sigma_across,/gt3r/land_segments/sigma_across,/gt1l/land_segments/sigma_topo,/gt1r/land_segments/sigma_topo,/gt2l/land_segments/sigma_topo,/gt2r/land_segments/sigma_topo,/gt3l/land_segments/sigma_topo,/gt3r/land_segments/sigma_topo,/gt1l/land_segments/sigma_atlas_land,/gt1r/land_segments/sigma_atlas_land,/gt2l/land_segments/sigma_atlas_land,/gt2r/land_segments/sigma_atlas_land,/gt3l/land_segments/sigma_atlas_land,/gt3r/land_segments/sigma_atlas_land,/gt1l/land_segments/psf_flag,/gt1r/land_segments/psf_flag,/gt2l/land_segments/psf_flag,/gt2r/land_segments/psf_flag,/gt3l/land_segments/psf_flag,/gt3r/land_segments/psf_flag,/gt1l/land_segments/layer_flag,/gt1r/land_segments/layer_flag,/gt2l/land_segments/layer_flag,/gt2r/land_segments/layer_flag,/gt3l/land_segments/layer_flag,/gt3r/land_segments/layer_flag,/gt1l/land_segments/n_seg_ph,/gt1r/land_segments/n_seg_ph,/gt2l/land_segments/n_seg_ph,/gt2r/land_segments/n_seg_ph,/gt3l/land_segments/n_seg_ph,/gt3r/land_segments/n_seg_ph',\n",
       " 'bbox': '-119.72284,37.734991,-119.165067,38.218747'}"
      ]
     },
     "execution_count": 18,
     "metadata": {},
     "output_type": "execute_result"
    }
   ],
   "source": [
    "# Connect your desired variable list to your area/time of interest\n",
    "\n",
    "region_a.subsetparams(Coverage=region_a.order_vars.wanted)"
   ]
  },
  {
   "cell_type": "code",
   "execution_count": 19,
   "metadata": {},
   "outputs": [
    {
     "name": "stdout",
     "output_type": "stream",
     "text": [
      "Total number of data order requests is  1  for  10  granules.\n",
      "Data request  1  of  1  is submitting to NSIDC\n",
      "order ID:  5000001014701\n",
      "Initial status of your order request at NSIDC is:  pending\n",
      "Your order status is still  pending  at NSIDC. Please continue waiting... this may take a few moments.\n",
      "Your order status is still  processing  at NSIDC. Please continue waiting... this may take a few moments.\n",
      "Your order status is still  processing  at NSIDC. Please continue waiting... this may take a few moments.\n",
      "Your order status is still  processing  at NSIDC. Please continue waiting... this may take a few moments.\n",
      "Your order status is still  processing  at NSIDC. Please continue waiting... this may take a few moments.\n",
      "Your order status is still  processing  at NSIDC. Please continue waiting... this may take a few moments.\n",
      "Your order is: complete\n"
     ]
    }
   ],
   "source": [
    "# Input your order! \n",
    "\n",
    "region_a.order_granules()"
   ]
  },
  {
   "cell_type": "code",
   "execution_count": 22,
   "metadata": {},
   "outputs": [],
   "source": [
    "# Define the path where you want your data to download\n",
    "\n",
    "path = '/data/ICESat2_downloads'"
   ]
  },
  {
   "cell_type": "code",
   "execution_count": 23,
   "metadata": {},
   "outputs": [
    {
     "name": "stdout",
     "output_type": "stream",
     "text": [
      "Beginning download of zipped output...\n",
      "Data request 5000001014701 of  1  order(s) is downloaded.\n",
      "Download complete\n"
     ]
    }
   ],
   "source": [
    "# Download and unzip your data\n",
    "\n",
    "region_a.download_granules(path)"
   ]
  },
  {
   "cell_type": "code",
   "execution_count": 24,
   "metadata": {},
   "outputs": [
    {
     "name": "stdout",
     "output_type": "stream",
     "text": [
      "Restarting download ... \n",
      "Beginning download of zipped output...\n",
      "Data request 5000001014701 of  1  order(s) is downloaded.\n",
      "Download complete\n"
     ]
    }
   ],
   "source": [
    "# Run this if your download got interupted to restart the download\n",
    "\n",
    "#region_a.download_granules(path,restart=True)"
   ]
  },
  {
   "cell_type": "code",
   "execution_count": null,
   "metadata": {},
   "outputs": [],
   "source": []
  }
 ],
 "metadata": {
  "kernelspec": {
   "display_name": "Python 3",
   "language": "python",
   "name": "python3"
  },
  "language_info": {
   "codemirror_mode": {
    "name": "ipython",
    "version": 3
   },
   "file_extension": ".py",
   "mimetype": "text/x-python",
   "name": "python",
   "nbconvert_exporter": "python",
   "pygments_lexer": "ipython3",
   "version": "3.8.6"
  }
 },
 "nbformat": 4,
 "nbformat_minor": 4
}
