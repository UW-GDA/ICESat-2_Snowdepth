{
 "cells": [
  {
   "cell_type": "code",
   "execution_count": 1,
   "metadata": {},
   "outputs": [],
   "source": [
    "import os\n",
    "import urllib\n",
    "import matplotlib.pyplot as plt\n",
    "from matplotlib_scalebar.scalebar import ScaleBar\n",
    "import numpy as np"
   ]
  },
  {
   "cell_type": "code",
   "execution_count": 2,
   "metadata": {},
   "outputs": [],
   "source": [
    "import glob\n",
    "from osgeo import gdal\n",
    "import rasterio as rio\n",
    "import rasterio.plot\n",
    "from rasterio.enums import Resampling\n",
    "#import ospybook as pb"
   ]
  },
  {
   "cell_type": "code",
   "execution_count": 3,
   "metadata": {},
   "outputs": [],
   "source": [
    "%matplotlib inline"
   ]
  },
  {
   "cell_type": "code",
   "execution_count": 4,
   "metadata": {},
   "outputs": [
    {
     "data": {
      "text/plain": [
       "['data/mcc_dem_3p0m_agg_TUOtrimmed_MANUAL.tif']"
      ]
     },
     "execution_count": 4,
     "metadata": {},
     "output_type": "execute_result"
    }
   ],
   "source": [
    "dtm_fns = glob.glob('data/**/*.tif',recursive=True)\n",
    "dtm_fns"
   ]
  },
  {
   "cell_type": "code",
   "execution_count": 5,
   "metadata": {},
   "outputs": [
    {
     "data": {
      "text/plain": [
       "'output/ASO_3m_dtm_USCATM_'"
      ]
     },
     "execution_count": 5,
     "metadata": {},
     "output_type": "execute_result"
    }
   ],
   "source": [
    "dtm_fn = dtm_fns[0] # change which of the two tif files to look at\n",
    "imgdir = 'output/'\n",
    "s='_'.join(dtm_fn.split('_')[7:8])\n",
    "out_fn = os.path.join(imgdir,'ASO_3m_dtm_USCATM_'+s)\n",
    "out_fn"
   ]
  },
  {
   "cell_type": "code",
   "execution_count": 6,
   "metadata": {},
   "outputs": [
    {
     "name": "stdout",
     "output_type": "stream",
     "text": [
      "Driver: GTiff/GeoTIFF\n",
      "Files: data/mcc_dem_3p0m_agg_TUOtrimmed_MANUAL.tif\n",
      "Size is 17699, 16780\n",
      "Coordinate System is:\n",
      "PROJCRS[\"WGS 84 / UTM zone 11N\",\n",
      "    BASEGEOGCRS[\"WGS 84\",\n",
      "        DATUM[\"World Geodetic System 1984\",\n",
      "            ELLIPSOID[\"WGS 84\",6378137,298.257223563,\n",
      "                LENGTHUNIT[\"metre\",1]]],\n",
      "        PRIMEM[\"Greenwich\",0,\n",
      "            ANGLEUNIT[\"degree\",0.0174532925199433]],\n",
      "        ID[\"EPSG\",4326]],\n",
      "    CONVERSION[\"UTM zone 11N\",\n",
      "        METHOD[\"Transverse Mercator\",\n",
      "            ID[\"EPSG\",9807]],\n",
      "        PARAMETER[\"Latitude of natural origin\",0,\n",
      "            ANGLEUNIT[\"degree\",0.0174532925199433],\n",
      "            ID[\"EPSG\",8801]],\n",
      "        PARAMETER[\"Longitude of natural origin\",-117,\n",
      "            ANGLEUNIT[\"degree\",0.0174532925199433],\n",
      "            ID[\"EPSG\",8802]],\n",
      "        PARAMETER[\"Scale factor at natural origin\",0.9996,\n",
      "            SCALEUNIT[\"unity\",1],\n",
      "            ID[\"EPSG\",8805]],\n",
      "        PARAMETER[\"False easting\",500000,\n",
      "            LENGTHUNIT[\"metre\",1],\n",
      "            ID[\"EPSG\",8806]],\n",
      "        PARAMETER[\"False northing\",0,\n",
      "            LENGTHUNIT[\"metre\",1],\n",
      "            ID[\"EPSG\",8807]]],\n",
      "    CS[Cartesian,2],\n",
      "        AXIS[\"(E)\",east,\n",
      "            ORDER[1],\n",
      "            LENGTHUNIT[\"metre\",1]],\n",
      "        AXIS[\"(N)\",north,\n",
      "            ORDER[2],\n",
      "            LENGTHUNIT[\"metre\",1]],\n",
      "    USAGE[\n",
      "        SCOPE[\"unknown\"],\n",
      "        AREA[\"World - N hemisphere - 120°W to 114°W - by country\"],\n",
      "        BBOX[0,-120,84,-114]],\n",
      "    ID[\"EPSG\",32611]]\n",
      "Data axis to CRS axis mapping: 1,2\n",
      "Origin = (254247.000000000000000,4229667.000000000000000)\n",
      "Pixel Size = (3.000000000000000,-3.000000000000000)\n",
      "Metadata:\n",
      "  AREA_OR_POINT=Area\n",
      "  TIFFTAG_XRESOLUTION=1\n",
      "  TIFFTAG_YRESOLUTION=1\n",
      "Image Structure Metadata:\n",
      "  INTERLEAVE=BAND\n",
      "Corner Coordinates:\n",
      "Upper Left  (  254247.000, 4229667.000) (119d48'20.72\"W, 38d10'53.16\"N)\n",
      "Lower Left  (  254247.000, 4179327.000) (119d47'18.80\"W, 37d43'41.75\"N)\n",
      "Upper Right (  307344.000, 4229667.000) (119d12' 0.06\"W, 38d11'39.67\"N)\n",
      "Lower Right (  307344.000, 4179327.000) (119d11'11.48\"W, 37d44'27.51\"N)\n",
      "Center      (  280795.500, 4204497.000) (119d29'42.78\"W, 37d57'41.93\"N)\n",
      "Band 1 Block=17699x1 Type=Float32, ColorInterp=Gray\n"
     ]
    }
   ],
   "source": [
    "!gdalinfo $dtm_fn"
   ]
  },
  {
   "cell_type": "code",
   "execution_count": 7,
   "metadata": {},
   "outputs": [],
   "source": [
    "in_ds = gdal.Open(dtm_fn)"
   ]
  },
  {
   "cell_type": "code",
   "execution_count": 8,
   "metadata": {},
   "outputs": [],
   "source": [
    "in_band = in_ds.GetRasterBand(1)\n",
    "in_data = in_band.ReadAsArray()"
   ]
  },
  {
   "cell_type": "code",
   "execution_count": 9,
   "metadata": {},
   "outputs": [],
   "source": [
    "#in_data[in_data == 0] = np.nan"
   ]
  },
  {
   "cell_type": "code",
   "execution_count": 10,
   "metadata": {},
   "outputs": [],
   "source": [
    "# f,ax = plt.subplots()\n",
    "# colorbar = ax.imshow(in_data);\n",
    "# f.colorbar(colorbar)"
   ]
  },
  {
   "cell_type": "code",
   "execution_count": 11,
   "metadata": {},
   "outputs": [],
   "source": [
    "# Function to save a new raster, from https://livebook.manning.com/book/geoprocessing-with-python/chapter-11/50\n",
    "\n",
    "def make_raster(in_ds, fn, data, data_type, nodata=None):\n",
    "    \"\"\"Create a one-band GeoTIFF.\n",
    "\n",
    "    in_ds     - datasource to copy projection and geotransform from\n",
    "    fn        - path to the file to create\n",
    "    data      - NumPy array containing data to write\n",
    "    data_type - output data type\n",
    "    nodata    - optional NoData value\n",
    "    \"\"\"\n",
    "    driver = gdal.GetDriverByName('GTiff')\n",
    "    out_ds = driver.Create(\n",
    "        fn, in_ds.RasterXSize, in_ds.RasterYSize, 1, data_type)\n",
    "    out_ds.SetProjection(in_ds.GetProjection())\n",
    "    out_ds.SetGeoTransform(in_ds.GetGeoTransform())\n",
    "    out_band = out_ds.GetRasterBand(1)\n",
    "    if nodata is not None:\n",
    "        out_band.SetNoDataValue(nodata)\n",
    "    out_band.WriteArray(data)\n",
    "    out_band.FlushCache()\n",
    "    out_band.ComputeStatistics(False)\n",
    "    return out_ds"
   ]
  },
  {
   "cell_type": "code",
   "execution_count": 12,
   "metadata": {},
   "outputs": [],
   "source": [
    "# Attempt to make a function that creates slices, to then be utilized in a moving window function. From https://livebook.manning.com/book/geoprocessing-with-python/chapter-11/100\n",
    "\n",
    "def make_slices(data, win_size):\n",
    "    \"\"\"Return a list of slices given a window size.\n",
    "    data     - two-dimensional array to get slices from\n",
    "    win_size - tuple of (rows, columns) for the moving window\n",
    "    \"\"\"\n",
    "    rows = data.shape[0] - win_size[0] + 1\n",
    "    cols = data.shape[1] - win_size[1] + 1\n",
    "    slices = []\n",
    "    for i in range(win_size[0]):\n",
    "        for j in range(win_size[1]):\n",
    "            slices.append(data[i:rows+i, j:cols+j])\n",
    "            return slices"
   ]
  },
  {
   "cell_type": "code",
   "execution_count": 13,
   "metadata": {},
   "outputs": [],
   "source": [
    "# Find standard deviation within the file? From https://livebook.manning.com/book/geoprocessing-with-python/chapter-11/103\n",
    "\n",
    "slices = make_slices(in_data, (3,3))\n",
    "stacked_data = np.ma.dstack(slices)"
   ]
  },
  {
   "cell_type": "code",
   "execution_count": 14,
   "metadata": {},
   "outputs": [],
   "source": [
    "rows, cols = in_band.YSize, in_band.XSize"
   ]
  },
  {
   "cell_type": "code",
   "execution_count": 15,
   "metadata": {},
   "outputs": [],
   "source": [
    "out_data = np.ones((rows, cols), np.int32) * -99"
   ]
  },
  {
   "cell_type": "code",
   "execution_count": 17,
   "metadata": {},
   "outputs": [
    {
     "data": {
      "text/plain": [
       "array([[-99, -99, -99, ..., -99, -99, -99],\n",
       "       [-99, -99, -99, ..., -99, -99, -99],\n",
       "       [-99, -99, -99, ..., -99, -99, -99],\n",
       "       ...,\n",
       "       [-99, -99, -99, ..., -99, -99, -99],\n",
       "       [-99, -99, -99, ..., -99, -99, -99],\n",
       "       [-99, -99, -99, ..., -99, -99, -99]], dtype=int32)"
      ]
     },
     "execution_count": 17,
     "metadata": {},
     "output_type": "execute_result"
    }
   ],
   "source": [
    "out_data"
   ]
  },
  {
   "cell_type": "code",
   "execution_count": null,
   "metadata": {},
   "outputs": [],
   "source": [
    "out_data[1:-1, 1:-1] = np.std(stacked_data) #, 2"
   ]
  },
  {
   "cell_type": "code",
   "execution_count": null,
   "metadata": {},
   "outputs": [],
   "source": [
    "make_raster(in_ds, out_fn, out_data, gdal.GDT_Int32, -99)\n",
    "del in_ds"
   ]
  }
 ],
 "metadata": {
  "kernelspec": {
   "display_name": "Python 3",
   "language": "python",
   "name": "python3"
  },
  "language_info": {
   "codemirror_mode": {
    "name": "ipython",
    "version": 3
   },
   "file_extension": ".py",
   "mimetype": "text/x-python",
   "name": "python",
   "nbconvert_exporter": "python",
   "pygments_lexer": "ipython3",
   "version": "3.8.6"
  }
 },
 "nbformat": 4,
 "nbformat_minor": 4
}
