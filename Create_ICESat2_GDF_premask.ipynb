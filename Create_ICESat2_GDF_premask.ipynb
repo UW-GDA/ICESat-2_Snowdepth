{
 "cells": [
  {
   "cell_type": "markdown",
   "metadata": {},
   "source": [
    "# Create ICESat-2 GDF prior to masking\n",
    "Copied code from Plot_ATL08 to streamline without deleting anything"
   ]
  },
  {
   "cell_type": "code",
   "execution_count": null,
   "metadata": {},
   "outputs": [],
   "source": [
    "#!pip install earthpy"
   ]
  },
  {
   "cell_type": "code",
   "execution_count": 3,
   "metadata": {},
   "outputs": [],
   "source": [
    "# Import necessary packages\n",
    "import os\n",
    "import rasterio\n",
    "from rasterio.enums import Resampling\n",
    "import glob\n",
    "import matplotlib as mpl\n",
    "import matplotlib.pyplot as plt\n",
    "from matplotlib_scalebar.scalebar import ScaleBar\n",
    "import numpy as np\n",
    "import numpy.ma as ma\n",
    "import pandas as pd\n",
    "import seaborn as sns\n",
    "from rasterstats import zonal_stats\n",
    "import statistics\n",
    "import scipy.stats as stats\n",
    "# Use geopandas for vector data and rasterio for raster data\n",
    "import geopandas as gpd\n",
    "import rasterio as rio\n",
    "import rioxarray as riox\n",
    "# Plotting extent is used to plot raster & vector data together\n",
    "from rasterio.plot import plotting_extent\n",
    "from rasterio import features\n",
    "\n",
    "import earthpy as et\n",
    "import earthpy.plot as ep\n",
    "\n",
    "# Prettier plotting with seaborn\n",
    "sns.set(font_scale=1.5, style=\"white\")\n",
    "\n",
    "%matplotlib inline"
   ]
  },
  {
   "cell_type": "code",
   "execution_count": 4,
   "metadata": {},
   "outputs": [],
   "source": [
    "#set working directory?\n",
    "os.chdir(os.path.join(et.io.HOME, \n",
    "                      'ICESat-2_Snowdepth'))"
   ]
  },
  {
   "cell_type": "code",
   "execution_count": 5,
   "metadata": {},
   "outputs": [],
   "source": [
    "dem_path = os.path.join(\"data\",\n",
    "                       \"mcc_dem_3p0m_agg_TUOtrimmed_MANUAL.tif\")\n",
    "dem_9m_path = os.path.join(\"data\",\n",
    "                       \"mcc_dem_3p0m_agg_TUOtrimmed_MANUAL_9m.tif\")"
   ]
  },
  {
   "cell_type": "code",
   "execution_count": 6,
   "metadata": {},
   "outputs": [],
   "source": [
    "ATL08_path = os.path.join(\"data/ATL08_simplified_snowon/\")"
   ]
  },
  {
   "cell_type": "code",
   "execution_count": 7,
   "metadata": {},
   "outputs": [],
   "source": [
    "filetype = '*.csv'\n",
    "\n",
    "files = [f for f in os.listdir(ATL08_path) if f.endswith(filetype[1:])]"
   ]
  },
  {
   "cell_type": "code",
   "execution_count": 15,
   "metadata": {},
   "outputs": [
    {
     "data": {
      "text/plain": [
       "['data/ATL08_simplified_snowon/ATL08_20200205_gt1r.csv',\n",
       " 'data/ATL08_simplified_snowon/ATL08_20191211_gt1r.csv',\n",
       " 'data/ATL08_simplified_snowon/ATL08_20200205_gt3r.csv',\n",
       " 'data/ATL08_simplified_snowon/ATL08_20191112_gt1r.csv',\n",
       " 'data/ATL08_simplified_snowon/ATL08_20191209_gt3r.csv',\n",
       " 'data/ATL08_simplified_snowon/ATL08_20200107_gt1l.csv',\n",
       " 'data/ATL08_simplified_snowon/ATL08_20191112_gt1l.csv',\n",
       " 'data/ATL08_simplified_snowon/ATL08_20200211_gt3r.csv',\n",
       " 'data/ATL08_simplified_snowon/ATL08_20200608_gt1r.csv',\n",
       " 'data/ATL08_simplified_snowon/ATL08_20200309_gt2r.csv',\n",
       " 'data/ATL08_simplified_snowon/ATL08_20200310_gt1r.csv',\n",
       " 'data/ATL08_simplified_snowon/ATL08_20191209_gt2r.csv',\n",
       " 'data/ATL08_simplified_snowon/ATL08_20200310_gt1l.csv',\n",
       " 'data/ATL08_simplified_snowon/ATL08_20200412_gt2l.csv',\n",
       " 'data/ATL08_simplified_snowon/ATL08_20200407_gt3r.csv',\n",
       " 'data/ATL08_simplified_snowon/ATL08_20200309_gt3l.csv',\n",
       " 'data/ATL08_simplified_snowon/ATL08_20200205_gt3l.csv',\n",
       " 'data/ATL08_simplified_snowon/ATL08_20200608_gt3r.csv',\n",
       " 'data/ATL08_simplified_snowon/ATL08_20200412_gt3l.csv',\n",
       " 'data/ATL08_simplified_snowon/ATL08_20200310_gt3l.csv',\n",
       " 'data/ATL08_simplified_snowon/ATL08_20200107_gt2l.csv',\n",
       " 'data/ATL08_simplified_snowon/ATL08_20200511_gt3r.csv',\n",
       " 'data/ATL08_simplified_snowon/ATL08_20200511_gt1r.csv',\n",
       " 'data/ATL08_simplified_snowon/ATL08_20191211_gt3l.csv',\n",
       " 'data/ATL08_simplified_snowon/ATL08_20200608_gt2r.csv',\n",
       " 'data/ATL08_simplified_snowon/ATL08_20200205_gt2r.csv',\n",
       " 'data/ATL08_simplified_snowon/ATL08_20200309_gt3r.csv',\n",
       " 'data/ATL08_simplified_snowon/ATL08_20200310_gt3r.csv',\n",
       " 'data/ATL08_simplified_snowon/ATL08_20200211_gt2r.csv',\n",
       " 'data/ATL08_simplified_snowon/ATL08_20191209_gt1r.csv',\n",
       " 'data/ATL08_simplified_snowon/ATL08_20200407_gt2l.csv',\n",
       " 'data/ATL08_simplified_snowon/ATL08_20200608_gt2l.csv',\n",
       " 'data/ATL08_simplified_snowon/ATL08_20200107_gt2r.csv',\n",
       " 'data/ATL08_simplified_snowon/ATL08_20191211_gt1l.csv',\n",
       " 'data/ATL08_simplified_snowon/ATL08_20200407_gt2r.csv',\n",
       " 'data/ATL08_simplified_snowon/ATL08_20200608_gt3l.csv',\n",
       " 'data/ATL08_simplified_snowon/ATL08_20191209_gt3l.csv',\n",
       " 'data/ATL08_simplified_snowon/ATL08_20200211_gt3l.csv',\n",
       " 'data/ATL08_simplified_snowon/ATL08_20191211_gt2l.csv',\n",
       " 'data/ATL08_simplified_snowon/ATL08_20200511_gt3l.csv',\n",
       " 'data/ATL08_simplified_snowon/ATL08_20200412_gt3r.csv',\n",
       " 'data/ATL08_simplified_snowon/ATL08_20200211_gt2l.csv',\n",
       " 'data/ATL08_simplified_snowon/ATL08_20200211_gt1r.csv',\n",
       " 'data/ATL08_simplified_snowon/ATL08_20200310_gt2r.csv',\n",
       " 'data/ATL08_simplified_snowon/ATL08_20191209_gt2l.csv',\n",
       " 'data/ATL08_simplified_snowon/ATL08_20200511_gt1l.csv',\n",
       " 'data/ATL08_simplified_snowon/ATL08_20200412_gt2r.csv',\n",
       " 'data/ATL08_simplified_snowon/ATL08_20200113_gt2l.csv',\n",
       " 'data/ATL08_simplified_snowon/ATL08_20200407_gt1r.csv',\n",
       " 'data/ATL08_simplified_snowon/ATL08_20191112_gt3l.csv',\n",
       " 'data/ATL08_simplified_snowon/ATL08_20191211_gt2r.csv',\n",
       " 'data/ATL08_simplified_snowon/ATL08_20200407_gt1l.csv',\n",
       " 'data/ATL08_simplified_snowon/ATL08_20191112_gt2l.csv',\n",
       " 'data/ATL08_simplified_snowon/ATL08_20200608_gt1l.csv',\n",
       " 'data/ATL08_simplified_snowon/ATL08_20200511_gt2l.csv',\n",
       " 'data/ATL08_simplified_snowon/ATL08_20191112_gt2r.csv',\n",
       " 'data/ATL08_simplified_snowon/ATL08_20191112_gt3r.csv',\n",
       " 'data/ATL08_simplified_snowon/ATL08_20200113_gt1r.csv',\n",
       " 'data/ATL08_simplified_snowon/ATL08_20200211_gt1l.csv',\n",
       " 'data/ATL08_simplified_snowon/ATL08_20200310_gt2l.csv',\n",
       " 'data/ATL08_simplified_snowon/ATL08_20200407_gt3l.csv',\n",
       " 'data/ATL08_simplified_snowon/ATL08_20200309_gt1r.csv',\n",
       " 'data/ATL08_simplified_snowon/ATL08_20200309_gt2l.csv',\n",
       " 'data/ATL08_simplified_snowon/ATL08_20200205_gt1l.csv',\n",
       " 'data/ATL08_simplified_snowon/ATL08_20200309_gt1l.csv',\n",
       " 'data/ATL08_simplified_snowon/ATL08_20200113_gt1l.csv',\n",
       " 'data/ATL08_simplified_snowon/ATL08_20200107_gt3r.csv',\n",
       " 'data/ATL08_simplified_snowon/ATL08_20200511_gt2r.csv',\n",
       " 'data/ATL08_simplified_snowon/ATL08_20191211_gt3r.csv',\n",
       " 'data/ATL08_simplified_snowon/ATL08_20200205_gt2l.csv',\n",
       " 'data/ATL08_simplified_snowon/ATL08_20191209_gt1l.csv',\n",
       " 'data/ATL08_simplified_snowon/ATL08_20200107_gt3l.csv',\n",
       " 'data/ATL08_simplified_snowon/ATL08_20200107_gt1r.csv']"
      ]
     },
     "execution_count": 15,
     "metadata": {},
     "output_type": "execute_result"
    }
   ],
   "source": [
    "winter_2020_tracks = glob.glob(ATL08_path + \"/*.csv\")\n",
    "winter_2020_tracks"
   ]
  },
  {
   "cell_type": "code",
   "execution_count": 9,
   "metadata": {},
   "outputs": [],
   "source": [
    "track_names = []\n",
    "for file in files:\n",
    "    track_names.append(f'gdf{file[20:22]}_{file[6:10]}-{file[10:12]}-{file[12:14]}')"
   ]
  },
  {
   "cell_type": "code",
   "execution_count": 10,
   "metadata": {},
   "outputs": [],
   "source": [
    "def open_atl08(data_files):\n",
    "    \n",
    "    atlas_df = pd.concat((pd.read_csv(f) for f in data_files), keys=track_names)\n",
    "    atlas_df = atlas_df.reset_index(level=1, drop=True).rename_axis('Track').reset_index()\n",
    "    atlas_gdf = gpd.GeoDataFrame(atlas_df, crs='epsg:32611', geometry=gpd.points_from_xy(atlas_df.x, atlas_df.y))\n",
    "    return atlas_gdf"
   ]
  },
  {
   "cell_type": "code",
   "execution_count": 16,
   "metadata": {},
   "outputs": [
    {
     "data": {
      "text/html": [
       "<div>\n",
       "<style scoped>\n",
       "    .dataframe tbody tr th:only-of-type {\n",
       "        vertical-align: middle;\n",
       "    }\n",
       "\n",
       "    .dataframe tbody tr th {\n",
       "        vertical-align: top;\n",
       "    }\n",
       "\n",
       "    .dataframe thead th {\n",
       "        text-align: right;\n",
       "    }\n",
       "</style>\n",
       "<table border=\"1\" class=\"dataframe\">\n",
       "  <thead>\n",
       "    <tr style=\"text-align: right;\">\n",
       "      <th></th>\n",
       "      <th>Track</th>\n",
       "      <th>Unnamed: 0</th>\n",
       "      <th>h_te_mean</th>\n",
       "      <th>h_te_median</th>\n",
       "      <th>h_te_min</th>\n",
       "      <th>h_te_max</th>\n",
       "      <th>latitude</th>\n",
       "      <th>longitude</th>\n",
       "      <th>h_te_mode</th>\n",
       "      <th>h_te_skew</th>\n",
       "      <th>n_te_photons</th>\n",
       "      <th>segment_snowcover</th>\n",
       "      <th>terrain_slope</th>\n",
       "      <th>h_te_uncertainty</th>\n",
       "      <th>dem_h</th>\n",
       "      <th>x</th>\n",
       "      <th>y</th>\n",
       "      <th>geometry</th>\n",
       "      <th>date</th>\n",
       "    </tr>\n",
       "  </thead>\n",
       "  <tbody>\n",
       "    <tr>\n",
       "      <th>0</th>\n",
       "      <td>gdfcs_2020-02-05</td>\n",
       "      <td>0</td>\n",
       "      <td>1986.278687</td>\n",
       "      <td>1986.257080</td>\n",
       "      <td>1985.621460</td>\n",
       "      <td>1986.947266</td>\n",
       "      <td>38.218727</td>\n",
       "      <td>-119.286774</td>\n",
       "      <td>1986.000000</td>\n",
       "      <td>0.122473</td>\n",
       "      <td>103.0</td>\n",
       "      <td>2.0</td>\n",
       "      <td>-0.009950</td>\n",
       "      <td>19.284258</td>\n",
       "      <td>1989.658081</td>\n",
       "      <td>299812.579385</td>\n",
       "      <td>4.232556e+06</td>\n",
       "      <td>POINT (299812.579 4232555.953)</td>\n",
       "      <td>2020-02-05</td>\n",
       "    </tr>\n",
       "    <tr>\n",
       "      <th>1</th>\n",
       "      <td>gdfcs_2020-02-05</td>\n",
       "      <td>1</td>\n",
       "      <td>1984.924561</td>\n",
       "      <td>1984.889160</td>\n",
       "      <td>1984.154541</td>\n",
       "      <td>1986.050049</td>\n",
       "      <td>38.217827</td>\n",
       "      <td>-119.286880</td>\n",
       "      <td>1984.700073</td>\n",
       "      <td>0.815575</td>\n",
       "      <td>181.0</td>\n",
       "      <td>2.0</td>\n",
       "      <td>-0.011663</td>\n",
       "      <td>10.966432</td>\n",
       "      <td>1988.901611</td>\n",
       "      <td>299800.759407</td>\n",
       "      <td>4.232456e+06</td>\n",
       "      <td>POINT (299800.759 4232456.275)</td>\n",
       "      <td>2020-02-05</td>\n",
       "    </tr>\n",
       "    <tr>\n",
       "      <th>2</th>\n",
       "      <td>gdfcs_2020-02-05</td>\n",
       "      <td>2</td>\n",
       "      <td>1983.748413</td>\n",
       "      <td>1983.722778</td>\n",
       "      <td>1982.881470</td>\n",
       "      <td>1984.601440</td>\n",
       "      <td>38.216930</td>\n",
       "      <td>-119.286987</td>\n",
       "      <td>1983.900024</td>\n",
       "      <td>0.059822</td>\n",
       "      <td>221.0</td>\n",
       "      <td>2.0</td>\n",
       "      <td>-0.013248</td>\n",
       "      <td>8.976236</td>\n",
       "      <td>1987.914551</td>\n",
       "      <td>299788.949707</td>\n",
       "      <td>4.232357e+06</td>\n",
       "      <td>POINT (299788.950 4232357.020)</td>\n",
       "      <td>2020-02-05</td>\n",
       "    </tr>\n",
       "    <tr>\n",
       "      <th>3</th>\n",
       "      <td>gdfcs_2020-02-05</td>\n",
       "      <td>3</td>\n",
       "      <td>1982.492065</td>\n",
       "      <td>1982.459473</td>\n",
       "      <td>1981.510376</td>\n",
       "      <td>1983.545898</td>\n",
       "      <td>38.216030</td>\n",
       "      <td>-119.287094</td>\n",
       "      <td>1982.400024</td>\n",
       "      <td>0.158004</td>\n",
       "      <td>331.0</td>\n",
       "      <td>2.0</td>\n",
       "      <td>-0.012579</td>\n",
       "      <td>5.989406</td>\n",
       "      <td>1986.772461</td>\n",
       "      <td>299777.129366</td>\n",
       "      <td>4.232257e+06</td>\n",
       "      <td>POINT (299777.129 4232257.342)</td>\n",
       "      <td>2020-02-05</td>\n",
       "    </tr>\n",
       "    <tr>\n",
       "      <th>4</th>\n",
       "      <td>gdfcs_2020-02-05</td>\n",
       "      <td>4</td>\n",
       "      <td>1981.266846</td>\n",
       "      <td>1981.326538</td>\n",
       "      <td>1980.194214</td>\n",
       "      <td>1982.247314</td>\n",
       "      <td>38.215134</td>\n",
       "      <td>-119.287209</td>\n",
       "      <td>1981.500000</td>\n",
       "      <td>-0.261654</td>\n",
       "      <td>304.0</td>\n",
       "      <td>2.0</td>\n",
       "      <td>-0.013095</td>\n",
       "      <td>6.517324</td>\n",
       "      <td>1985.563354</td>\n",
       "      <td>299764.651298</td>\n",
       "      <td>4.232158e+06</td>\n",
       "      <td>POINT (299764.651 4232158.104)</td>\n",
       "      <td>2020-02-05</td>\n",
       "    </tr>\n",
       "  </tbody>\n",
       "</table>\n",
       "</div>"
      ],
      "text/plain": [
       "              Track  Unnamed: 0    h_te_mean  h_te_median     h_te_min  \\\n",
       "0  gdfcs_2020-02-05           0  1986.278687  1986.257080  1985.621460   \n",
       "1  gdfcs_2020-02-05           1  1984.924561  1984.889160  1984.154541   \n",
       "2  gdfcs_2020-02-05           2  1983.748413  1983.722778  1982.881470   \n",
       "3  gdfcs_2020-02-05           3  1982.492065  1982.459473  1981.510376   \n",
       "4  gdfcs_2020-02-05           4  1981.266846  1981.326538  1980.194214   \n",
       "\n",
       "      h_te_max   latitude   longitude    h_te_mode  h_te_skew  n_te_photons  \\\n",
       "0  1986.947266  38.218727 -119.286774  1986.000000   0.122473         103.0   \n",
       "1  1986.050049  38.217827 -119.286880  1984.700073   0.815575         181.0   \n",
       "2  1984.601440  38.216930 -119.286987  1983.900024   0.059822         221.0   \n",
       "3  1983.545898  38.216030 -119.287094  1982.400024   0.158004         331.0   \n",
       "4  1982.247314  38.215134 -119.287209  1981.500000  -0.261654         304.0   \n",
       "\n",
       "   segment_snowcover  terrain_slope  h_te_uncertainty        dem_h  \\\n",
       "0                2.0      -0.009950         19.284258  1989.658081   \n",
       "1                2.0      -0.011663         10.966432  1988.901611   \n",
       "2                2.0      -0.013248          8.976236  1987.914551   \n",
       "3                2.0      -0.012579          5.989406  1986.772461   \n",
       "4                2.0      -0.013095          6.517324  1985.563354   \n",
       "\n",
       "               x             y                        geometry        date  \n",
       "0  299812.579385  4.232556e+06  POINT (299812.579 4232555.953)  2020-02-05  \n",
       "1  299800.759407  4.232456e+06  POINT (299800.759 4232456.275)  2020-02-05  \n",
       "2  299788.949707  4.232357e+06  POINT (299788.950 4232357.020)  2020-02-05  \n",
       "3  299777.129366  4.232257e+06  POINT (299777.129 4232257.342)  2020-02-05  \n",
       "4  299764.651298  4.232158e+06  POINT (299764.651 4232158.104)  2020-02-05  "
      ]
     },
     "execution_count": 16,
     "metadata": {},
     "output_type": "execute_result"
    }
   ],
   "source": [
    "winter_2020_gdf = open_atl08(winter_2020_tracks)\n",
    "winter_2020_gdf['date'] = winter_2020_gdf['Track']\n",
    "winter_2020_gdf['date'] = winter_2020_gdf['date'].map(lambda x: x.split('_')[1])\n",
    "winter_2020_gdf.head()"
   ]
  },
  {
   "cell_type": "code",
   "execution_count": 17,
   "metadata": {},
   "outputs": [
    {
     "data": {
      "text/plain": [
       "<Projected CRS: EPSG:32611>\n",
       "Name: WGS 84 / UTM zone 11N\n",
       "Axis Info [cartesian]:\n",
       "- E[east]: Easting (metre)\n",
       "- N[north]: Northing (metre)\n",
       "Area of Use:\n",
       "- name: World - N hemisphere - 120°W to 114°W - by country\n",
       "- bounds: (-120.0, 0.0, -114.0, 84.0)\n",
       "Coordinate Operation:\n",
       "- name: UTM zone 11N\n",
       "- method: Transverse Mercator\n",
       "Datum: World Geodetic System 1984\n",
       "- Ellipsoid: WGS 84\n",
       "- Prime Meridian: Greenwich"
      ]
     },
     "execution_count": 17,
     "metadata": {},
     "output_type": "execute_result"
    }
   ],
   "source": [
    "winter_2020_gdf.crs"
   ]
  },
  {
   "cell_type": "code",
   "execution_count": 18,
   "metadata": {},
   "outputs": [
    {
     "data": {
      "image/png": "[encoded data removed]",
      "text/plain": [
       "<Figure size 432x288 with 2 Axes>"
      ]
     },
     "metadata": {
      "needs_background": "light"
     },
     "output_type": "display_data"
    }
   ],
   "source": [
    "winter_2020_gdf.plot(column='h_te_median', s=2, legend=True, legend_kwds={'label': \"Elevation\", 'orientation': \"vertical\"});"
   ]
  },
  {
   "cell_type": "code",
   "execution_count": 19,
   "metadata": {},
   "outputs": [],
   "source": [
    "dem_path = os.path.join(\"data\",\n",
    "                       \"mcc_dem_3p0m_agg_TUOtrimmed_MANUAL.tif\")\n",
    "dem_9m_path = os.path.join(\"data\",\n",
    "                       \"mcc_dem_3p0m_agg_TUOtrimmed_MANUAL_9m.tif\")"
   ]
  },
  {
   "cell_type": "code",
   "execution_count": null,
   "metadata": {},
   "outputs": [],
   "source": [
    "# Proceess and Open Snow-Off Data\n",
    "# Open the file using a context manager (\"with rio.open\" statement)\n",
    "\n",
    "with rio.open(dem_9m_path) as dem_9m:\n",
    "    dem_9m_arr = dem_9m.read(1)\n",
    "    dem_9m_meta = dem_9m.profile\n",
    "    dem_9m_plot_ext = plotting_extent(dem_9m)\n",
    "    print(dem_9m.crs)\n",
    "\n",
    "#Clean raster by removing zero values\n",
    "dem_9m_arr[dem_9m_arr == (-9999.)] = np.nan\n",
    "dem_9m_arr[dem_9m_arr == (0.)] = np.nan\n",
    "\n",
    "print(dem_9m_plot_ext)\n",
    "xmin_9m,ymin_9m,xmax_9m,ymax_9m = dem_9m.bounds"
   ]
  },
  {
   "cell_type": "code",
   "execution_count": null,
   "metadata": {},
   "outputs": [],
   "source": []
  }
 ],
 "metadata": {
  "kernelspec": {
   "display_name": "Python 3",
   "language": "python",
   "name": "python3"
  },
  "language_info": {
   "codemirror_mode": {
    "name": "ipython",
    "version": 3
   },
   "file_extension": ".py",
   "mimetype": "text/x-python",
   "name": "python",
   "nbconvert_exporter": "python",
   "pygments_lexer": "ipython3",
   "version": "3.8.6"
  }
 },
 "nbformat": 4,
 "nbformat_minor": 4
}
