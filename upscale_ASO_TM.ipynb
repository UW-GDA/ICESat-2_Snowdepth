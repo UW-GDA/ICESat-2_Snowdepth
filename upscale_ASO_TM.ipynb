{
 "cells": [
  {
   "cell_type": "markdown",
   "metadata": {},
   "source": [
    "# Upscale ASO Data from 3m to 9m Resolution\n",
    "## For easier plotting"
   ]
  },
  {
   "cell_type": "code",
   "execution_count": 5,
   "metadata": {
    "collapsed": true,
    "jupyter": {
     "outputs_hidden": true
    }
   },
   "outputs": [
    {
     "name": "stdout",
     "output_type": "stream",
     "text": [
      "Requirement already satisfied: earthpy in /srv/conda/envs/notebook/lib/python3.8/site-packages (0.9.2)\n",
      "Requirement already satisfied: rasterio in /srv/conda/envs/notebook/lib/python3.8/site-packages (from earthpy) (1.1.8)\n",
      "Requirement already satisfied: geopandas in /srv/conda/envs/notebook/lib/python3.8/site-packages (from earthpy) (0.8.1)\n",
      "Requirement already satisfied: matplotlib>=2.0.0 in /srv/conda/envs/notebook/lib/python3.8/site-packages (from earthpy) (3.3.3)\n",
      "Requirement already satisfied: scikit-image in /srv/conda/envs/notebook/lib/python3.8/site-packages (from earthpy) (0.18.0)\n",
      "Requirement already satisfied: numpy>=1.14.0 in /srv/conda/envs/notebook/lib/python3.8/site-packages (from earthpy) (1.19.4)\n",
      "Requirement already satisfied: requests in /srv/conda/envs/notebook/lib/python3.8/site-packages (from earthpy) (2.25.1)\n",
      "Requirement already satisfied: python-dateutil>=2.1 in /srv/conda/envs/notebook/lib/python3.8/site-packages (from matplotlib>=2.0.0->earthpy) (2.7.5)\n",
      "Requirement already satisfied: pyparsing!=2.0.4,!=2.1.2,!=2.1.6,>=2.0.3 in /srv/conda/envs/notebook/lib/python3.8/site-packages (from matplotlib>=2.0.0->earthpy) (2.4.7)\n",
      "Requirement already satisfied: kiwisolver>=1.0.1 in /srv/conda/envs/notebook/lib/python3.8/site-packages (from matplotlib>=2.0.0->earthpy) (1.3.1)\n",
      "Requirement already satisfied: pillow>=6.2.0 in /srv/conda/envs/notebook/lib/python3.8/site-packages (from matplotlib>=2.0.0->earthpy) (8.0.1)\n",
      "Requirement already satisfied: cycler>=0.10 in /srv/conda/envs/notebook/lib/python3.8/site-packages (from matplotlib>=2.0.0->earthpy) (0.10.0)\n",
      "Requirement already satisfied: six in /srv/conda/envs/notebook/lib/python3.8/site-packages (from cycler>=0.10->matplotlib>=2.0.0->earthpy) (1.15.0)\n",
      "Requirement already satisfied: shapely in /srv/conda/envs/notebook/lib/python3.8/site-packages (from geopandas->earthpy) (1.7.1)\n",
      "Requirement already satisfied: fiona in /srv/conda/envs/notebook/lib/python3.8/site-packages (from geopandas->earthpy) (1.8.18)\n",
      "Requirement already satisfied: pandas>=0.23.0 in /srv/conda/envs/notebook/lib/python3.8/site-packages (from geopandas->earthpy) (1.1.5)\n",
      "Requirement already satisfied: pyproj>=2.2.0 in /srv/conda/envs/notebook/lib/python3.8/site-packages (from geopandas->earthpy) (2.6.1.post1)\n",
      "Requirement already satisfied: pytz>=2017.2 in /srv/conda/envs/notebook/lib/python3.8/site-packages (from pandas>=0.23.0->geopandas->earthpy) (2020.4)\n",
      "Requirement already satisfied: attrs>=17 in /srv/conda/envs/notebook/lib/python3.8/site-packages (from fiona->geopandas->earthpy) (20.3.0)\n",
      "Requirement already satisfied: certifi in /srv/conda/envs/notebook/lib/python3.8/site-packages (from fiona->geopandas->earthpy) (2020.12.5)\n",
      "Requirement already satisfied: click<8,>=4.0 in /srv/conda/envs/notebook/lib/python3.8/site-packages (from fiona->geopandas->earthpy) (7.1.2)\n",
      "Requirement already satisfied: cligj>=0.5 in /srv/conda/envs/notebook/lib/python3.8/site-packages (from fiona->geopandas->earthpy) (0.7.1)\n",
      "Requirement already satisfied: click-plugins>=1.0 in /srv/conda/envs/notebook/lib/python3.8/site-packages (from fiona->geopandas->earthpy) (1.1.1)\n",
      "Requirement already satisfied: munch in /srv/conda/envs/notebook/lib/python3.8/site-packages (from fiona->geopandas->earthpy) (2.5.0)\n",
      "Requirement already satisfied: affine in /srv/conda/envs/notebook/lib/python3.8/site-packages (from rasterio->earthpy) (2.3.0)\n",
      "Requirement already satisfied: snuggs>=1.4.1 in /srv/conda/envs/notebook/lib/python3.8/site-packages (from rasterio->earthpy) (1.4.7)\n",
      "Requirement already satisfied: idna<3,>=2.5 in /srv/conda/envs/notebook/lib/python3.8/site-packages (from requests->earthpy) (2.10)\n",
      "Requirement already satisfied: chardet<5,>=3.0.2 in /srv/conda/envs/notebook/lib/python3.8/site-packages (from requests->earthpy) (3.0.4)\n",
      "Requirement already satisfied: urllib3<1.27,>=1.21.1 in /srv/conda/envs/notebook/lib/python3.8/site-packages (from requests->earthpy) (1.25.11)\n",
      "Requirement already satisfied: scipy>=1.0.1 in /srv/conda/envs/notebook/lib/python3.8/site-packages (from scikit-image->earthpy) (1.5.3)\n",
      "Requirement already satisfied: networkx>=2.0 in /srv/conda/envs/notebook/lib/python3.8/site-packages (from scikit-image->earthpy) (2.5)\n",
      "Requirement already satisfied: imageio>=2.3.0 in /srv/conda/envs/notebook/lib/python3.8/site-packages (from scikit-image->earthpy) (2.9.0)\n",
      "Requirement already satisfied: tifffile>=2019.7.26 in /srv/conda/envs/notebook/lib/python3.8/site-packages (from scikit-image->earthpy) (2020.12.8)\n",
      "Requirement already satisfied: PyWavelets>=1.1.1 in /srv/conda/envs/notebook/lib/python3.8/site-packages (from scikit-image->earthpy) (1.1.1)\n",
      "Requirement already satisfied: decorator>=4.3.0 in /srv/conda/envs/notebook/lib/python3.8/site-packages (from networkx>=2.0->scikit-image->earthpy) (4.4.2)\n"
     ]
    }
   ],
   "source": [
    "!pip install earthpy"
   ]
  },
  {
   "cell_type": "code",
   "execution_count": 1,
   "metadata": {},
   "outputs": [],
   "source": [
    "import os\n",
    "import urllib\n",
    "import matplotlib.pyplot as plt\n",
    "from matplotlib_scalebar.scalebar import ScaleBar\n",
    "import numpy as np\n",
    "import earthpy as et"
   ]
  },
  {
   "cell_type": "code",
   "execution_count": 2,
   "metadata": {},
   "outputs": [],
   "source": [
    "import glob\n",
    "from osgeo import gdal\n",
    "import rasterio as rio\n",
    "import rasterio.plot\n",
    "from rasterio.plot import plotting_extent\n",
    "from rasterio.enums import Resampling"
   ]
  },
  {
   "cell_type": "code",
   "execution_count": 3,
   "metadata": {},
   "outputs": [],
   "source": [
    "#set working directory?\n",
    "os.chdir(os.path.join(et.io.HOME, \n",
    "                      'ICESat-2_Snowdepth'))"
   ]
  },
  {
   "cell_type": "code",
   "execution_count": 4,
   "metadata": {},
   "outputs": [],
   "source": [
    "dem_path = os.path.join(\"data\",\n",
    "                       \"mcc_dem_3p0m_agg_TUOtrimmed_MANUAL.tif\")\n",
    "output_fn = os.path.join('data',\n",
    "                        'mcc_dem_3p0m_agg_TUOtrimmed_MANUAL_9m.tif')"
   ]
  },
  {
   "cell_type": "code",
   "execution_count": 5,
   "metadata": {},
   "outputs": [],
   "source": [
    "upscale_factor = 1/3 # ooopsies isn't this technically a downscale? my bad ---eric\n",
    "\n",
    "with rasterio.open(dem_path) as dataset:\n",
    "\n",
    "    # resample data to target shape\n",
    "    data = dataset.read(\n",
    "        out_shape=(\n",
    "            dataset.count,\n",
    "            int(dataset.height * upscale_factor),\n",
    "            int(dataset.width * upscale_factor)\n",
    "        ),\n",
    "        resampling=Resampling.nearest #billinear resamping..... change here\n",
    "    )\n",
    "\n",
    "    # scale image transform\n",
    "    transform = dataset.transform * dataset.transform.scale(\n",
    "        (dataset.width / data.shape[-1]),\n",
    "        (dataset.height / data.shape[-2])\n",
    "    )"
   ]
  },
  {
   "cell_type": "code",
   "execution_count": 6,
   "metadata": {},
   "outputs": [],
   "source": [
    "dem_9m = data[0,:,:]"
   ]
  },
  {
   "cell_type": "code",
   "execution_count": 7,
   "metadata": {},
   "outputs": [],
   "source": [
    "with rasterio.open(dem_path) as src:\n",
    "    profile = src.profile.copy()\n",
    "\n",
    "    aff = src.transform\n",
    "    newaff = rasterio.Affine(aff.a / upscale_factor, aff.b, aff.c,\n",
    "                             aff.d, aff.e / upscale_factor, aff.f)\n",
    "    profile.update({\n",
    "            'dtype': 'float32',\n",
    "            'height': dem_9m.shape[0],\n",
    "            'width': dem_9m.shape[1],\n",
    "            'transform': newaff})  \n",
    "\n",
    "    with rasterio.open(output_fn, 'w', **profile) as dst:\n",
    "        dst.write_band(1, dem_9m)"
   ]
  },
  {
   "cell_type": "code",
   "execution_count": null,
   "metadata": {},
   "outputs": [],
   "source": []
  }
 ],
 "metadata": {
  "kernelspec": {
   "display_name": "Python 3",
   "language": "python",
   "name": "python3"
  },
  "language_info": {
   "codemirror_mode": {
    "name": "ipython",
    "version": 3
   },
   "file_extension": ".py",
   "mimetype": "text/x-python",
   "name": "python",
   "nbconvert_exporter": "python",
   "pygments_lexer": "ipython3",
   "version": "3.8.6"
  }
 },
 "nbformat": 4,
 "nbformat_minor": 4
}
